{
 "cells": [
  {
   "cell_type": "markdown",
   "metadata": {
    "id": "AcHp1TO1rQdA"
   },
   "source": [
    "## Part <font color='yellow'>1</font>"
   ]
  },
  {
   "cell_type": "markdown",
   "metadata": {
    "id": "28nkXGzcsvuj"
   },
   "source": [
    "### Answer <font color='yellow'>1.1</font>"
   ]
  },
  {
   "cell_type": "code",
   "execution_count": null,
   "metadata": {
    "colab": {
     "base_uri": "https://localhost:8080/"
    },
    "id": "l1G4Hm9trIGA",
    "outputId": "485e55e9-140a-440a-9086-e6c32e7e64a0"
   },
   "outputs": [
    {
     "name": "stdout",
     "output_type": "stream",
     "text": [
      "The average/mean of the list is :  32.38095238095238\n",
      "The Standard Deviation of the list is:  22.67886826452407\n"
     ]
    }
   ],
   "source": [
    "def find_avg(list_val):\n",
    "  \"\"\"Function to find the average/mean of a given list, this uses for loop to sum up the list and divide it with the number of elements in the list.\"\"\"\n",
    "  total_sum = 0\n",
    "  list_length = 0\n",
    "  #Using loop to add each element  and find the length of the list.\n",
    "  for i in list_val:\n",
    "    total_sum += i\n",
    "    list_length += 1\n",
    "  #Returning the average and length of the list\n",
    "  return list_length,total_sum/list_length\n",
    "\n",
    "def find_ssd(list_val,list_avg):\n",
    "  \"\"\"Function to find the sum of squared deviation (ssd) \"\"\"\n",
    "  ssd = 0\n",
    "  for i in list_val:\n",
    "    #Using loop to subtract each element with the average and square the result and sum it up.\n",
    "    ssd += (i-list_avg)**2\n",
    "  #Returning ssd\n",
    "  return ssd\n",
    "\n",
    "def find_std(list_val,list_avg,list_length):\n",
    "  \"\"\"Function to find the standard deviation by invoking another function to find sum of squared distance. \"\"\"\n",
    "  #The function returns the ssd value for which the mean is found and square root is taken.\n",
    "  std = (find_ssd(list_val,list_avg)/list_length)**0.5\n",
    "  #Returning Standard deviation\n",
    "  return std\n",
    "\n",
    "\n",
    "#List as given in the question for which the average and standard deviation needs to be found.\n",
    "ages = [5,31,43,48,50,41,7,11,15,39,80,82,32,2,8,6,25,36,27,61,31]\n",
    "#Calling function to find average with the list as argument\n",
    "list_size,average = find_avg(ages)\n",
    "print(\"The average/mean of the list is : \",average)\n",
    "#Calling function to return standard deviation with the list,its average and its size as argument.\n",
    "print(\"The Standard Deviation of the list is: \",find_std(ages,average,list_size))"
   ]
  },
  {
   "cell_type": "markdown",
   "metadata": {
    "id": "aNSXT5lilUU2"
   },
   "source": [
    "### Answer <font color='yellow'>1.2</font>"
   ]
  },
  {
   "cell_type": "code",
   "execution_count": null,
   "metadata": {
    "colab": {
     "base_uri": "https://localhost:8080/"
    },
    "id": "igQIJCqNlZfI",
    "outputId": "7e0e4c74-fc66-42dc-e81b-60bb4c689fca"
   },
   "outputs": [
    {
     "name": "stdout",
     "output_type": "stream",
     "text": [
      "Merged and Sorted List :  [1, 1, 2, 3, 4, 4]\n",
      "Sorted List without duplicates :  [1, 2, 3, 4]\n"
     ]
    }
   ],
   "source": [
    "def merge_and_sort(l1,l2):\n",
    "  \"\"\"User defined function to merge and sort two list.\"\"\"\n",
    "  #Merging two lists\n",
    "  merge_sort_list = l1+l2\n",
    "  #Two loops for sorting the merged list, we are kind of using bubble sort.\n",
    "  for i in range(0,len(merge_sort_list)):\n",
    "    for j in range(i+1,len(merge_sort_list)):\n",
    "      if merge_sort_list[i] >= merge_sort_list[j]:\n",
    "        merge_sort_list[i],merge_sort_list[j] = merge_sort_list[j],merge_sort_list[i]\n",
    "  print(\"Merged and Sorted List : \",merge_sort_list)\n",
    "  #Returning the merged list.\n",
    "  return merge_sort_list\n",
    "\n",
    "def make_unique(ms_list):\n",
    "  \"\"\"User defined function to return unique list.\"\"\"\n",
    "  final_list = []\n",
    "  #Loop to check for duplicates.\n",
    "  for i in ms_list:\n",
    "    if i not in final_list:\n",
    "      final_list.append(i)\n",
    "  #Returning the list without duplicate values.\n",
    "  return final_list\n",
    "\n",
    "#Two lists given in the question.\n",
    "list1 = [1,2,4]\n",
    "list2 = [1,3,4]\n",
    "#Calling the user defined function to merge and sort the list and to produce list without duplicate values.\n",
    "print(\"Sorted List without duplicates : \",make_unique(merge_and_sort(list1,list2)))"
   ]
  },
  {
   "cell_type": "markdown",
   "metadata": {
    "id": "IpdaVqgYF6FC"
   },
   "source": [
    "### Answer <font color='yellow'>1.3</font>"
   ]
  },
  {
   "cell_type": "code",
   "execution_count": null,
   "metadata": {
    "colab": {
     "base_uri": "https://localhost:8080/"
    },
    "id": "o49e79f9F_Ot",
    "outputId": "3c0693ce-c51e-4bc6-d7db-464faae03177"
   },
   "outputs": [
    {
     "name": "stdout",
     "output_type": "stream",
     "text": [
      "No\n",
      "Yes\n",
      "Yes\n",
      "Not Valid\n"
     ]
    }
   ],
   "source": [
    "def check_mobile_num(mob_num):\n",
    "  \"\"\"Function to check the mobile numbers with the given conditions.\"\"\"\n",
    "  #Iterate over the list of mobile numbers for the given conditions.\n",
    "  for i in mob_num:\n",
    "    if i[-1] == '3' and len(i) >= 11:\n",
    "      print(\"No\")\n",
    "    elif i[-1] != '3' and len(i) >= 11:\n",
    "      print(\"Yes\")\n",
    "    else:\n",
    "      print(\"Not Valid\")\n",
    "\n",
    "mob_num = ['10009091003','10008293312','10007838282','130001002']\n",
    "#Calling the user defined function to check the mobile number with the list of mobile numbers as argument.\n",
    "check_mobile_num(mob_num)"
   ]
  },
  {
   "cell_type": "markdown",
   "metadata": {
    "id": "cee1DifvQrNK"
   },
   "source": [
    "### Answer <font color='yellow'>1.4</font>"
   ]
  },
  {
   "cell_type": "code",
   "execution_count": null,
   "metadata": {
    "colab": {
     "base_uri": "https://localhost:8080/"
    },
    "id": "h1utDc4bQtFF",
    "outputId": "0d61a6f9-091f-4349-ca76-62525b240beb"
   },
   "outputs": [
    {
     "name": "stdout",
     "output_type": "stream",
     "text": [
      "*\n",
      "\n",
      "**\n",
      "\n",
      "***\n",
      "\n",
      "****\n",
      "\n",
      "*****\n",
      "\n"
     ]
    }
   ],
   "source": [
    "#Using two for loops to control the flow and print the required format.\n",
    "for i in range(5):\n",
    "  for j in range(0,i+1):\n",
    "    print(\"*\",end = \"\")\n",
    "  print(\"\\n\")"
   ]
  },
  {
   "cell_type": "markdown",
   "metadata": {
    "id": "Z69uVqmiY84i"
   },
   "source": [
    "### Answer <font color='yellow'>1.5</font>"
   ]
  },
  {
   "cell_type": "code",
   "execution_count": null,
   "metadata": {
    "colab": {
     "base_uri": "https://localhost:8080/"
    },
    "id": "JMUNCR7qJ7yW",
    "outputId": "26ee8e85-1d89-4c84-844e-bd46003c6534"
   },
   "outputs": [
    {
     "name": "stdout",
     "output_type": "stream",
     "text": [
      "1,2,3,4,5,x1,6,1,2,3,sig742,"
     ]
    }
   ],
   "source": [
    "def print_list(li):\n",
    "  \"\"\"User defined function to print the list of list values.\"\"\"\n",
    "  #We are using recursive function to print the list of list (nested lists) values.\n",
    "  for i in li:\n",
    "    if type(i) == list:\n",
    "      #Recursive function used.\n",
    "      print_list(i)\n",
    "    else:\n",
    "      print(i,end = \",\")\n",
    "\n",
    "#List as given in the question.\n",
    "A = [1,2,3,[4,5,['x1',6,[1,2,3,'sig742']]]]\n",
    "#Calling the function with the list as argument.\n",
    "print_list(A)\n"
   ]
  },
  {
   "cell_type": "markdown",
   "metadata": {
    "id": "WzfDfO66kdLs"
   },
   "source": [
    "### Answer <font color='yellow'>1.6</font>"
   ]
  },
  {
   "cell_type": "code",
   "execution_count": null,
   "metadata": {
    "colab": {
     "base_uri": "https://localhost:8080/"
    },
    "id": "fBhLLh8Cl9Hr",
    "outputId": "cee2c9ec-cf5c-4a40-bca2-2b15e85f25e0"
   },
   "outputs": [
    {
     "name": "stdout",
     "output_type": "stream",
     "text": [
      "[{'name': 'b', 'age': 30}, {'name': 'c', 'age': 50}, {'name': 'a', 'age': 55}]\n"
     ]
    }
   ],
   "source": [
    "def sort_li(li):\n",
    "  \"\"\"User defined function to sort the list of dictionary values based on age.\"\"\"\n",
    "  #Using loops to bubble sort the dictionary based on key 'age'.\n",
    "  for i in range(0,len(li)):\n",
    "    for j in range(i+1,len(li)):\n",
    "      if li[i]['age'] >= li[j]['age']:\n",
    "        #Swapping values if condition met.\n",
    "        li[i],li[j] = li[j],li[i]\n",
    "  #Returning the sorted list.\n",
    "  return li\n",
    "\n",
    "#List of dictionary values as given in the question.\n",
    "dictionary_list=[{'name': 'a','age': 55}, {'name': 'b','age': 30}, {'name': 'c','age': 50}]\n",
    "print(sort_li(dictionary_list))"
   ]
  },
  {
   "cell_type": "markdown",
   "metadata": {
    "id": "ns8iscXm1g4F"
   },
   "source": [
    "### Answer <font color='yellow'>1.7</font>"
   ]
  },
  {
   "cell_type": "code",
   "execution_count": null,
   "metadata": {
    "colab": {
     "base_uri": "https://localhost:8080/"
    },
    "id": "iwIKrzeTsPf-",
    "outputId": "fbd17184-2bb5-43f0-fb5d-c14cced53dda"
   },
   "outputs": [
    {
     "name": "stdout",
     "output_type": "stream",
     "text": [
      "The sum of studentid =  30\n",
      "The result is an even number!!\n"
     ]
    }
   ],
   "source": [
    "def sum_digits(studentid):\n",
    "  \"\"\"User defined function to sum up all digits of the studentid.\"\"\"\n",
    "  digit_sum = 0\n",
    "  #Using loop to iterate over each digit and sum it up.\n",
    "  while studentid != 0:\n",
    "    digit_sum += studentid%10\n",
    "    studentid = studentid//10\n",
    "  print(\"The sum of studentid = \",digit_sum)\n",
    "  #Returning sum of digits.\n",
    "  return digit_sum\n",
    "\n",
    "def check_studentid(sum_digits_result):\n",
    "  \"\"\"User defined function to check if the sum of digits is an even or odd number.\"\"\"\n",
    "  if sum_digits_result%2 == 0:\n",
    "    print(\"The result is an even number!!\")\n",
    "  else:\n",
    "    print(\"The result is an odd number!!\")\n",
    "\n",
    "#Calling the function to check the sum of student id is even or odd. Users studentid is given as argument for the function.\n",
    "check_studentid(sum_digits(223912146))"
   ]
  },
  {
   "cell_type": "markdown",
   "metadata": {
    "id": "A9gR7mZLb3jM"
   },
   "source": [
    "### Answer <font color='yellow'>1.8</font>"
   ]
  },
  {
   "cell_type": "code",
   "execution_count": null,
   "metadata": {
    "colab": {
     "base_uri": "https://localhost:8080/"
    },
    "id": "Irewpf0VTHKH",
    "outputId": "4d352ae5-8668-447b-cef5-6437f6b15b74"
   },
   "outputs": [
    {
     "name": "stdout",
     "output_type": "stream",
     "text": [
      "[1, 3]\n"
     ]
    }
   ],
   "source": [
    "def check_index(arr_val,target):\n",
    "  \"\"\"User defined function to check if the two numbers of the array add upto 10 then return the indexes.\"\"\"\n",
    "  #Using nested loops for adding up the elements to check if it is 10 or not.\n",
    "  for i in range(len(arr_val)):\n",
    "    for j in range(i+1,len(arr_val)):\n",
    "      if arr_val[i] + arr_val[j] == target:\n",
    "        #Returning the indices of the element that fulfilled the condition.\n",
    "        return [i,j]\n",
    "  #Returning if no such number exist.\n",
    "  return \"No such number present\"\n",
    "\n",
    "#The given data array and the target value.\n",
    "array_num = [1,2,6,8]\n",
    "target = 10\n",
    "#Calling the function to check for the condition with the array of numbers and the target value as argument.\n",
    "print(check_index(array_num,target))"
   ]
  },
  {
   "cell_type": "markdown",
   "metadata": {
    "id": "gm6hzuI5vfrf"
   },
   "source": [
    ".........................................................................................."
   ]
  },
  {
   "cell_type": "markdown",
   "metadata": {
    "id": "KZr2nggsvpKO"
   },
   "source": [
    "## Part <font color='yellow'>2</font>"
   ]
  },
  {
   "cell_type": "markdown",
   "metadata": {
    "id": "ddjT-GbrvrFK"
   },
   "source": [
    "### Answer <font color='yellow'>2.1</font>"
   ]
  },
  {
   "cell_type": "code",
   "execution_count": null,
   "metadata": {
    "colab": {
     "base_uri": "https://localhost:8080/"
    },
    "id": "IZZrvHK3VD2l",
    "outputId": "e4d52a08-fcff-4139-90c4-e95299400d64"
   },
   "outputs": [
    {
     "name": "stdout",
     "output_type": "stream",
     "text": [
      "The probability to get the car if the door is switched =  0.66704\n"
     ]
    }
   ],
   "source": [
    "import random #Importing random library for the random functions.\n",
    "\n",
    "def monty_hall_problem_solver(total_games):\n",
    "  \"\"\"User defined function to calculate the probability of getting a car if the door is switched in the Monty Hall problem.\"\"\"\n",
    "  #Initialization of the variable to keep track of the number of wins by switching door.\n",
    "  got_the_car_by_switching = 0\n",
    "\n",
    "  #For loop to perform the activity n nummber of times, here no control variable is given.\n",
    "  for _ in range(total_games):\n",
    "    #Random initialization of door which is having the car.\n",
    "    door_has_car = random.randint(1,3)\n",
    "\n",
    "    #Random initialization of the door which the challenger chooses at first.\n",
    "    challenger_door_selection = random.randint(1,3)\n",
    "\n",
    "    #Random initialization of the door which the host chooses which is neither the door with car or the one challenger choses.\n",
    "    host_door_selection = random.choice([door_choice for door_choice in [1,2,3] if door_choice != door_has_car and door_choice != challenger_door_selection ])\n",
    "\n",
    "    #Initialization of the door that the challenger switches to which is neither the door the host chose or which he previously chose.\n",
    "    switched_door = next(door_choice for door_choice in [1,2,3] if door_choice != challenger_door_selection and door_choice != host_door_selection)\n",
    "\n",
    "    #Conditional statement to check if the switched door is same as the door having the car. If true, then counter is increased.\n",
    "    if switched_door == door_has_car:\n",
    "      got_the_car_by_switching += 1\n",
    "\n",
    "  #Returning the probability of getting car if challenger switched the door(sample/total).\n",
    "  return got_the_car_by_switching/total_games\n",
    "\n",
    "#Giving a value for how many time the game needs to be played.\n",
    "no_games_played = 50000\n",
    "#Calling the function with argument passed.\n",
    "print(\"The probability to get the car if the door is switched = \",monty_hall_problem_solver(no_games_played))"
   ]
  },
  {
   "cell_type": "code",
   "execution_count": null,
   "metadata": {
    "id": "qJXMMgaqJWxG"
   },
   "outputs": [],
   "source": []
  }
 ],
 "metadata": {
  "colab": {
   "provenance": []
  },
  "kernelspec": {
   "display_name": "Python 3 (ipykernel)",
   "language": "python",
   "name": "python3"
  },
  "language_info": {
   "codemirror_mode": {
    "name": "ipython",
    "version": 3
   },
   "file_extension": ".py",
   "mimetype": "text/x-python",
   "name": "python",
   "nbconvert_exporter": "python",
   "pygments_lexer": "ipython3",
   "version": "3.8.18"
  }
 },
 "nbformat": 4,
 "nbformat_minor": 4
}
